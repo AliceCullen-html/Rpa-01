{
 "cells": [
  {
   "cell_type": "markdown",
   "metadata": {},
   "source": [
    "# RPA com Python\n",
    "\n",
    "- O que é RPA?\n",
    "- Por que isso é diferente de Selenium/Web-Scraping e do que vimos até agora?\n",
    "    - Pontos Positivos\n",
    "    - Pontos Negativos\n",
    "- Biblioteca usada:\n",
    "    - pip install pyautogui\n",
    "    \n",
    "    - https://pyautogui.readthedocs.io/en/latest/\n",
    "        - Para os comandos de imagem pode ser que seja necessário instalar pip install pillow\n",
    "        - Para resolver problemas de caracteres especiais vamos usar um macete com a pyperclip\n",
    "        \n",
    "- Link com um resumo dos principais comandos: https://pyautogui.readthedocs.io/en/latest/quickstart.html\n",
    "\n",
    "- mouse comands = https://pyautogui.readthedocs.io/en/latest/mouse.html"
   ]
  },
  {
   "cell_type": "code",
   "execution_count": 22,
   "metadata": {},
   "outputs": [],
   "source": [
    "import pyautogui\n",
    "import time\n",
    "\n",
    "# pyautogui.write() -> escreve\n",
    "# pyautogui.click() -> clica\n",
    "# pyautogui.locateOnScreen -> identifica uma imagem na sua tela \n",
    "# pyautogui.hotkey -> usa atalhos do teclado \n",
    "# pyautogui.press -> aperta um botão do teclado \n",
    "# print(pyautogui.KEYBOARD_KEYS)\n",
    "\n",
    "# pausar ao executar comandos\n",
    "\n",
    "# time.sleep(2) pausa entre os comandos\n",
    "\n",
    "# pyautogui.PAUSE = 1\n",
    "\n",
    "# abrir o sistema (abrir o navegador)\n",
    "\n",
    "# pyautogui.position() => largar o mouse e executar a linha de cod para pegar as cordenadas do mouse\n",
    "\n",
    "pyautogui.alert('Côdigo rodando não aperte nada')\n",
    "\n",
    "pyautogui.PAUSE = 1\n",
    "# apertar o windows do teclaro \n",
    "pyautogui.press('win')\n",
    "\n",
    "# digitar opera\n",
    "pyautogui.write('opera')\n",
    "\n",
    "#apertar enter\n",
    "pyautogui.press('enter')\n",
    "\n",
    "# entrar no site de datasets\n",
    "pyautogui.write('kaggle')\n",
    "pyautogui.press('space')\n",
    "pyautogui.press('enter')\n",
    "\n",
    "# localizar imagem => vai retornar eixo X e Y, largura e altura\n",
    "x, y, largura, altura = pyautogui.locateOnScreen('kig.PNG')\n",
    "\n",
    "\n",
    "# clicar no meio da imagem \n",
    "pyautogui.click(x + largura/2, y + altura/2)\n",
    "\n",
    "#lembrar de esperar o site carregar\n",
    "\n",
    "#  clicar no campo de pesquisa \n",
    "x, y, largura, altura = pyautogui.locateOnScreen('pes.PNG')\n",
    "\n",
    "pyautogui.click(x + largura/2, y + altura/2)\n",
    "\n",
    "# pesquisar tema\n",
    "pyautogui.write('covid')\n",
    "pyautogui.press('enter')\n",
    "\n",
    "#clicar no filtro \n",
    "x, y, largura, altura = pyautogui.locateOnScreen('data.PNG')\n",
    "pyautogui.click(x + largura/2, y + altura/2)\n",
    "\n",
    "#Selecionando data set \n",
    "\n",
    "pyautogui.moveTo(558, 430)\n",
    "pyautogui.click()\n",
    "\n",
    "\n",
    "\n"
   ]
  },
  {
   "cell_type": "code",
   "execution_count": null,
   "metadata": {},
   "outputs": [
    {
     "name": "stdout",
     "output_type": "stream",
     "text": [
      "['\\t', '\\n', '\\r', ' ', '!', '\"', '#', '$', '%', '&', \"'\", '(', ')', '*', '+', ',', '-', '.', '/', '0', '1', '2', '3', '4', '5', '6', '7', '8', '9', ':', ';', '<', '=', '>', '?', '@', '[', '\\\\', ']', '^', '_', '`', 'a', 'b', 'c', 'd', 'e', 'f', 'g', 'h', 'i', 'j', 'k', 'l', 'm', 'n', 'o', 'p', 'q', 'r', 's', 't', 'u', 'v', 'w', 'x', 'y', 'z', '{', '|', '}', '~', 'accept', 'add', 'alt', 'altleft', 'altright', 'apps', 'backspace', 'browserback', 'browserfavorites', 'browserforward', 'browserhome', 'browserrefresh', 'browsersearch', 'browserstop', 'capslock', 'clear', 'convert', 'ctrl', 'ctrlleft', 'ctrlright', 'decimal', 'del', 'delete', 'divide', 'down', 'end', 'enter', 'esc', 'escape', 'execute', 'f1', 'f10', 'f11', 'f12', 'f13', 'f14', 'f15', 'f16', 'f17', 'f18', 'f19', 'f2', 'f20', 'f21', 'f22', 'f23', 'f24', 'f3', 'f4', 'f5', 'f6', 'f7', 'f8', 'f9', 'final', 'fn', 'hanguel', 'hangul', 'hanja', 'help', 'home', 'insert', 'junja', 'kana', 'kanji', 'launchapp1', 'launchapp2', 'launchmail', 'launchmediaselect', 'left', 'modechange', 'multiply', 'nexttrack', 'nonconvert', 'num0', 'num1', 'num2', 'num3', 'num4', 'num5', 'num6', 'num7', 'num8', 'num9', 'numlock', 'pagedown', 'pageup', 'pause', 'pgdn', 'pgup', 'playpause', 'prevtrack', 'print', 'printscreen', 'prntscrn', 'prtsc', 'prtscr', 'return', 'right', 'scrolllock', 'select', 'separator', 'shift', 'shiftleft', 'shiftright', 'sleep', 'space', 'stop', 'subtract', 'tab', 'up', 'volumedown', 'volumemute', 'volumeup', 'win', 'winleft', 'winright', 'yen', 'command', 'option', 'optionleft', 'optionright']\n"
     ]
    }
   ],
   "source": [
    "# hotkeys do pyautogui\n",
    "print(pyautogui.KEYBOARD_KEYS)"
   ]
  },
  {
   "cell_type": "code",
   "execution_count": 20,
   "metadata": {},
   "outputs": [
    {
     "data": {
      "text/plain": [
       "Point(x=558, y=430)"
      ]
     },
     "execution_count": 20,
     "metadata": {},
     "output_type": "execute_result"
    }
   ],
   "source": [
    "# descobrindo a posição do mouse\n",
    "\n",
    "#pyautogui.position()\n",
    "\n",
    "#movimentando até a posição\n",
    "#pyautogui.moveTo()\n"
   ]
  },
  {
   "cell_type": "code",
   "execution_count": null,
   "metadata": {},
   "outputs": [],
   "source": [
    "# lib com app para ver info do mouse \n",
    "# pip install pyautogui pillow mouseinfo\n",
    "\n",
    "# infos do mouse\n",
    "\n",
    "# no prompt iniciar python \n",
    "# from mouseinfo import mouseInfo\n",
    "# mouseInfo()"
   ]
  },
  {
   "cell_type": "code",
   "execution_count": null,
   "metadata": {},
   "outputs": [],
   "source": []
  },
  {
   "cell_type": "code",
   "execution_count": null,
   "metadata": {},
   "outputs": [],
   "source": []
  },
  {
   "cell_type": "code",
   "execution_count": null,
   "metadata": {},
   "outputs": [],
   "source": []
  },
  {
   "cell_type": "markdown",
   "metadata": {},
   "source": [
    "### Agora vamos escrever o e-mail"
   ]
  },
  {
   "cell_type": "code",
   "execution_count": 91,
   "metadata": {},
   "outputs": [
    {
     "data": {
      "text/html": [
       "<div>\n",
       "<style scoped>\n",
       "    .dataframe tbody tr th:only-of-type {\n",
       "        vertical-align: middle;\n",
       "    }\n",
       "\n",
       "    .dataframe tbody tr th {\n",
       "        vertical-align: top;\n",
       "    }\n",
       "\n",
       "    .dataframe thead th {\n",
       "        text-align: right;\n",
       "    }\n",
       "</style>\n",
       "<table border=\"1\" class=\"dataframe\">\n",
       "  <thead>\n",
       "    <tr style=\"text-align: right;\">\n",
       "      <th></th>\n",
       "      <th>Name</th>\n",
       "      <th>Given Name</th>\n",
       "      <th>Family Name</th>\n",
       "      <th>Group Membership</th>\n",
       "      <th>E-mail 1 - Type</th>\n",
       "      <th>E-mail 1 - Value</th>\n",
       "      <th>Phone 1 - Value</th>\n",
       "      <th>Organization 1 - Name</th>\n",
       "      <th>Organization 1 - Title</th>\n",
       "    </tr>\n",
       "  </thead>\n",
       "  <tbody>\n",
       "    <tr>\n",
       "      <th>0</th>\n",
       "      <td>Teste Lira</td>\n",
       "      <td>Teste</td>\n",
       "      <td>Lira</td>\n",
       "      <td>* myContacts</td>\n",
       "      <td>* Home</td>\n",
       "      <td>pythonimpressionador+lira@gmail.com</td>\n",
       "      <td>21 98561-0481</td>\n",
       "      <td>Hashtag</td>\n",
       "      <td>Programador</td>\n",
       "    </tr>\n",
       "  </tbody>\n",
       "</table>\n",
       "</div>"
      ],
      "text/plain": [
       "         Name Given Name Family Name Group Membership E-mail 1 - Type  \\\n",
       "0  Teste Lira      Teste        Lira     * myContacts          * Home   \n",
       "\n",
       "                      E-mail 1 - Value Phone 1 - Value Organization 1 - Name  \\\n",
       "0  pythonimpressionador+lira@gmail.com   21 98561-0481               Hashtag   \n",
       "\n",
       "  Organization 1 - Title  \n",
       "0            Programador  "
      ]
     },
     "metadata": {},
     "output_type": "display_data"
    },
    {
     "data": {
      "text/plain": [
       "'OK'"
      ]
     },
     "execution_count": 91,
     "metadata": {},
     "output_type": "execute_result"
    }
   ],
   "source": []
  },
  {
   "cell_type": "markdown",
   "metadata": {},
   "source": [
    "### E se eu já tiver com a aba aberta, como que eu coloco ela na frente?"
   ]
  },
  {
   "cell_type": "code",
   "execution_count": 57,
   "metadata": {},
   "outputs": [],
   "source": []
  },
  {
   "cell_type": "markdown",
   "metadata": {},
   "source": [
    "### Como descobrir a posição do mouse do local que eu quero"
   ]
  },
  {
   "cell_type": "code",
   "execution_count": 2,
   "metadata": {},
   "outputs": [
    {
     "name": "stdout",
     "output_type": "stream",
     "text": [
      "Point(x=1363, y=1441)\n"
     ]
    }
   ],
   "source": []
  }
 ],
 "metadata": {
  "kernelspec": {
   "display_name": "Python 3 (ipykernel)",
   "language": "python",
   "name": "python3"
  },
  "language_info": {
   "codemirror_mode": {
    "name": "ipython",
    "version": 3
   },
   "file_extension": ".py",
   "mimetype": "text/x-python",
   "name": "python",
   "nbconvert_exporter": "python",
   "pygments_lexer": "ipython3",
   "version": "3.9.7"
  }
 },
 "nbformat": 4,
 "nbformat_minor": 4
}
